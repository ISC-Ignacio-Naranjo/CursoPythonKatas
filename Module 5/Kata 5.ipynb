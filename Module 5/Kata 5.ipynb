{
 "cells": [
  {
   "cell_type": "markdown",
   "metadata": {},
   "source": [
    "# Modulo 5, Kata 5"
   ]
  },
  {
   "cell_type": "markdown",
   "metadata": {},
   "source": [
    "Ejercicio 1 - Utilizar operadores aritmeticos"
   ]
  },
  {
   "cell_type": "code",
   "execution_count": 13,
   "metadata": {},
   "outputs": [
    {
     "name": "stdout",
     "output_type": "stream",
     "text": [
      "149597870.0\n",
      "778547200.0\n",
      "628949330\n",
      "390577534\n"
     ]
    }
   ],
   "source": [
    "# asignar los valores de los planetas, y eliminando los punto \n",
    "tierra = float('149.597.870'.replace(\".\",\"\"))\n",
    "jupiter = float('778.547.200'.replace(\".\",\"\"))\n",
    "print(tierra)\n",
    "print(jupiter)\n",
    "#Realizar Operacion\n",
    "distanciaEntreDosPlanetaskm = abs(jupiter - tierra )\n",
    "print(round(distanciaEntreDosPlanetaskm))\n",
    "\n",
    "distanciaEntreDosPlanetasmi = distanciaEntreDosPlanetaskm * 0.621\n",
    "print(round(distanciaEntreDosPlanetasmi))\n"
   ]
  },
  {
   "cell_type": "markdown",
   "metadata": {},
   "source": [
    "Ejercicio 2: Convierte cadenas en numeros y usa valores absolutos"
   ]
  },
  {
   "cell_type": "code",
   "execution_count": 19,
   "metadata": {},
   "outputs": [
    {
     "name": "stdout",
     "output_type": "stream",
     "text": [
      "50300000\n",
      "31236300\n"
     ]
    }
   ],
   "source": [
    "# almaenar las entradas del usuario\n",
    "distanciaPlaneta1 = int (input(\"¿Cual es la distancia del primer planeta?\"))\n",
    "\n",
    "distanciaPlaneta2 = int (input(\"¿Cual es la distancia del segundo planeta?\"))\n",
    "\n",
    "distanciaEnKm = abs(distanciaPlaneta2 - distanciaPlaneta1)\n",
    "print(round( distanciaEnKm))\n",
    "distanciaEnMi = distanciaEnKm * 0.621\n",
    "print(round(distanciaEnMi))"
   ]
  }
 ],
 "metadata": {
  "interpreter": {
   "hash": "aee8b7b246df8f9039afb4144a1f6fd8d2ca17a180786b69acc140d282b71a49"
  },
  "kernelspec": {
   "display_name": "Python 3.10.2 64-bit",
   "language": "python",
   "name": "python3"
  },
  "language_info": {
   "codemirror_mode": {
    "name": "ipython",
    "version": 3
   },
   "file_extension": ".py",
   "mimetype": "text/x-python",
   "name": "python",
   "nbconvert_exporter": "python",
   "pygments_lexer": "ipython3",
   "version": "3.10.2"
  },
  "orig_nbformat": 4
 },
 "nbformat": 4,
 "nbformat_minor": 2
}
