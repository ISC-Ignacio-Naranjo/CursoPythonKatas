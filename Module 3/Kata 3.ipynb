{
 "cells": [
  {
   "cell_type": "markdown",
   "metadata": {},
   "source": [
    "# Kata 3"
   ]
  },
  {
   "cell_type": "markdown",
   "metadata": {},
   "source": [
    "Ejercicio 1 - escribir declaraciones if, else, y elif"
   ]
  },
  {
   "cell_type": "code",
   "execution_count": 13,
   "metadata": {},
   "outputs": [
    {
     "name": "stdout",
     "output_type": "stream",
     "text": [
      "Sigue con tu dia\n"
     ]
    }
   ],
   "source": [
    "# Añadir el código necesario para crear una variable que guarde la velocidad del asteroide.\n",
    "# Escribe una expresión de prueba para calcular si necesita una advertencia.\n",
    "# Agregue las instrucciones que se ejecutarán si la expresión de prueba es true o false.\n",
    "\n",
    "velocidadAsteroide1 = 49\n",
    "\n",
    "if velocidadAsteroide1 > 25:\n",
    "    print(\"ADVERTENCIA!!!! Asteroide acercandoce a la Tierra a una Velocidad de: \" + str(velocidadAsteroide1) + \" KM/S\") \n",
    "else:\n",
    "    print(\"Sigue con tu dia\")\n",
    "\n",
    "\n",
    "\n",
    "\n"
   ]
  },
  {
   "cell_type": "markdown",
   "metadata": {},
   "source": [
    "Ejerccio 2"
   ]
  },
  {
   "cell_type": "code",
   "execution_count": 20,
   "metadata": {},
   "outputs": [
    {
     "name": "stdout",
     "output_type": "stream",
     "text": [
      "ALERTAAAAA!,  Hay un asteroide en la atmotfera de la tierra, Miren a cielo probablemente se vea una luz\n",
      "Valor de la empresion: True\n"
     ]
    }
   ],
   "source": [
    "# Agrega el código para crear una variable para un asteroide que viaja a 19 km/s\n",
    "# Escribe varias expresiones de prueba para determinar si puedes ver el rayo de luz desde la tierra\n",
    "# Agrega las instrucciones que se ejecutarán si las expresiones de prueba son True o False\n",
    "\n",
    "velocidadAsteroide2 = 20\n",
    "entroEnLaAtmorfera = True\n",
    "if velocidadAsteroide2 >= 20:\n",
    "    print(\"ALERTAAAAA!,  Hay un asteroide en la atmotfera de la tierra, Miren a cielo probablemente se vea una luz\")\n",
    "    print(\"Valor de la empresion: \" + str(velocidadAsteroide2 >= 20))\n",
    "else:\n",
    "    print(\"Nada en el cielo\")\n"
   ]
  },
  {
   "cell_type": "markdown",
   "metadata": {},
   "source": [
    "# Ejercicios Usando Operadores and , or"
   ]
  },
  {
   "cell_type": "code",
   "execution_count": 29,
   "metadata": {},
   "outputs": [
    {
     "name": "stdout",
     "output_type": "stream",
     "text": [
      "Nothign so see here\n"
     ]
    }
   ],
   "source": [
    "# Agrega el código para crear nuevas variables para la velocidad y el tamaño del asteroide\n",
    "# Para probar el código, prueba con varias velocidades y tamaños\n",
    "# Escribe varias expresiones de prueba o combinaciones de expresiones de prueba para determinar qué mensaje se debe enviar a Tierra.\n",
    "\n",
    "speed = 10\n",
    "size = 20\n",
    "\n",
    "if size > 25 and size < 1000:\n",
    "   print(\"Asteroid will cause a lot damage\") \n",
    "elif speed >= 20:\n",
    "    print(\"WARNING!!!,  Look up, possible light in the sky due Asteroid cross the earth\")\n",
    "elif(speed < 25):\n",
    "    print(\"Nothign so see here\")\n",
    "else:\n",
    "    print(\"Nothing to see here\")\n",
    "\n"
   ]
  }
 ],
 "metadata": {
  "interpreter": {
   "hash": "b89b5cfaba6639976dc87ff2fec6d58faec662063367e2c229c520fe71072417"
  },
  "kernelspec": {
   "display_name": "Python 3.10.2 64-bit",
   "language": "python",
   "name": "python3"
  },
  "language_info": {
   "codemirror_mode": {
    "name": "ipython",
    "version": 3
   },
   "file_extension": ".py",
   "mimetype": "text/x-python",
   "name": "python",
   "nbconvert_exporter": "python",
   "pygments_lexer": "ipython3",
   "version": "3.10.2"
  },
  "orig_nbformat": 4
 },
 "nbformat": 4,
 "nbformat_minor": 2
}
