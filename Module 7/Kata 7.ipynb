{
 "cells": [
  {
   "cell_type": "markdown",
   "metadata": {},
   "source": [
    "# Module 7: Kata 7"
   ]
  },
  {
   "cell_type": "markdown",
   "metadata": {},
   "source": [
    "Ejercicio 1: Creacion de un bucle \"while\""
   ]
  },
  {
   "cell_type": "code",
   "execution_count": 7,
   "metadata": {},
   "outputs": [
    {
     "name": "stdout",
     "output_type": "stream",
     "text": [
      "sadasd}\n",
      "don e\n",
      "All Planets Iterated !! \n"
     ]
    }
   ],
   "source": [
    "# De la biblioteca time, importamos (traemos) la clase sleep\n",
    "from time import sleep\n",
    "\n",
    "# Variable para la entrada del usuario\n",
    "new_planet = ''\n",
    "\n",
    "# lista para almacenar los planetas\n",
    "planets = []\n",
    "\n",
    "# Creando el ciclo while\n",
    "while new_planet.lower() != 'done':\n",
    "    #Validate if new_planets is not empty\n",
    "    if new_planet:\n",
    "        #Almacenamos ese valor en la lista\n",
    "        planets.append(new_planet)\n",
    "    #Capturamos un nuevo planet\n",
    "    new_planet = input('enter a new Planet, or done when insertion is completed')\n",
    "\n",
    "for planet in planets:\n",
    "    #muestra cada planeta\n",
    "    print(planet)\n",
    "\n",
    "    #Espera 1 segundo\n",
    "    sleep(1)\n",
    "#Muestra el mensaje All Planets  Iterated\n",
    "print(\"All Planets Iterated !! \")\n",
    "\n"
   ]
  }
 ],
 "metadata": {
  "interpreter": {
   "hash": "aee8b7b246df8f9039afb4144a1f6fd8d2ca17a180786b69acc140d282b71a49"
  },
  "kernelspec": {
   "display_name": "Python 3.10.2 64-bit",
   "language": "python",
   "name": "python3"
  },
  "language_info": {
   "codemirror_mode": {
    "name": "ipython",
    "version": 3
   },
   "file_extension": ".py",
   "mimetype": "text/x-python",
   "name": "python",
   "nbconvert_exporter": "python",
   "pygments_lexer": "ipython3",
   "version": "3.10.2"
  },
  "orig_nbformat": 4
 },
 "nbformat": 4,
 "nbformat_minor": 2
}
